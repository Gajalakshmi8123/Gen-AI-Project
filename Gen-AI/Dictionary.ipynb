{
 "cells": [
  {
   "cell_type": "code",
   "execution_count": 16,
   "metadata": {},
   "outputs": [
    {
     "name": "stdout",
     "output_type": "stream",
     "text": [
      "<class 'dict'>\n"
     ]
    }
   ],
   "source": [
    "#creating empty dictionary\n",
    "empty_dict={}\n",
    "print(type(empty_dict))"
   ]
  },
  {
   "cell_type": "code",
   "execution_count": 17,
   "metadata": {},
   "outputs": [
    {
     "name": "stdout",
     "output_type": "stream",
     "text": [
      "{}\n"
     ]
    }
   ],
   "source": [
    "#creating empty dictionary\n",
    "empty_dict=dict()\n",
    "print(empty_dict)"
   ]
  },
  {
   "cell_type": "code",
   "execution_count": 2,
   "metadata": {},
   "outputs": [
    {
     "name": "stdout",
     "output_type": "stream",
     "text": [
      "{'name': 'Gajalakshmi', 'age': 23, 'grade': 99}\n"
     ]
    }
   ],
   "source": [
    "student={\"name\":\"Gajalakshmi\",\"age\":23,\"grade\":99}\n",
    "print(student)"
   ]
  },
  {
   "cell_type": "code",
   "execution_count": 7,
   "metadata": {},
   "outputs": [
    {
     "name": "stdout",
     "output_type": "stream",
     "text": [
      "Gajalakshmi\n",
      "99\n",
      "23\n",
      "G\n"
     ]
    }
   ],
   "source": [
    "#accessing dictionary method 1\n",
    "print(student['name'])\n",
    "print(student['grade'])\n",
    "\n",
    "#accessing dictionary method 2\n",
    "print(student.get('age'))\n",
    "print(student.get('lastname','G'))"
   ]
  },
  {
   "cell_type": "code",
   "execution_count": 8,
   "metadata": {},
   "outputs": [
    {
     "name": "stdout",
     "output_type": "stream",
     "text": [
      "{'name': 'Gajalakshmi', 'age': 23, 'grade': 99}\n"
     ]
    }
   ],
   "source": [
    "print(student)"
   ]
  },
  {
   "cell_type": "code",
   "execution_count": 12,
   "metadata": {},
   "outputs": [
    {
     "name": "stdout",
     "output_type": "stream",
     "text": [
      "{'name': 'alice', 'age': 23, 'grade': 99, 'address': 'india'}\n",
      "{'name': 'alice', 'age': 23, 'grade': 99, 'address': 'india'}\n"
     ]
    }
   ],
   "source": [
    "#modifying dictionary elements\n",
    "student['name']=\"alice\"\n",
    "print(student)\n",
    "#adding new elemwnts\n",
    "student['address']='india'\n",
    "print(student)"
   ]
  },
  {
   "cell_type": "code",
   "execution_count": 13,
   "metadata": {},
   "outputs": [
    {
     "name": "stdout",
     "output_type": "stream",
     "text": [
      "{'age': 23, 'grade': 99, 'address': 'india'}\n"
     ]
    }
   ],
   "source": [
    "#deleting the elements\n",
    "del student['name']\n",
    "print(student)"
   ]
  },
  {
   "cell_type": "code",
   "execution_count": 20,
   "metadata": {},
   "outputs": [
    {
     "name": "stdout",
     "output_type": "stream",
     "text": [
      "dict_keys(['age', 'grade', 'address'])\n",
      "dict_values([23, 99, 'india'])\n"
     ]
    }
   ],
   "source": [
    "#dictionary methods\n",
    "print(student.keys())\n",
    "print(student.values())"
   ]
  },
  {
   "cell_type": "code",
   "execution_count": 21,
   "metadata": {},
   "outputs": [
    {
     "name": "stdout",
     "output_type": "stream",
     "text": [
      "age\n",
      "23\n",
      "grade\n",
      "99\n",
      "address\n",
      "india\n"
     ]
    }
   ],
   "source": [
    "#accessing keys,value\n",
    "for key,value in student.items():\n",
    "    print(key)\n",
    "    print(value)"
   ]
  },
  {
   "cell_type": "code",
   "execution_count": null,
   "metadata": {},
   "outputs": [
    {
     "name": "stdout",
     "output_type": "stream",
     "text": [
      "dict_items([('age', 23), ('grade', 99), ('address', 'india')])\n"
     ]
    }
   ],
   "source": [
    "#dictionary items\n",
    "items=student.items()\n",
    "print(items)"
   ]
  },
  {
   "cell_type": "code",
   "execution_count": 23,
   "metadata": {},
   "outputs": [
    {
     "name": "stdout",
     "output_type": "stream",
     "text": [
      "{'age': 23, 'grade': 99, 'address': 'india'}\n",
      "{'age': 23, 'grade': 99, 'address': 'india'}\n"
     ]
    }
   ],
   "source": [
    "#shallow copy\n",
    "student_copy=student\n",
    "print(student)\n",
    "print(student_copy)"
   ]
  },
  {
   "cell_type": "code",
   "execution_count": null,
   "metadata": {},
   "outputs": [],
   "source": [
    "student['name']='bob' #update new name in student\n"
   ]
  },
  {
   "cell_type": "code",
   "execution_count": 32,
   "metadata": {},
   "outputs": [
    {
     "name": "stdout",
     "output_type": "stream",
     "text": [
      "{'age': 23, 'grade': 99, 'address': 'india', 'name': 'bob'}\n",
      "{'age': 23, 'grade': 99, 'address': 'india', 'name': 'bob'}\n"
     ]
    }
   ],
   "source": [
    "print(student)\n",
    "print(student_copy)"
   ]
  },
  {
   "cell_type": "code",
   "execution_count": 24,
   "metadata": {},
   "outputs": [
    {
     "name": "stdout",
     "output_type": "stream",
     "text": [
      "{'age': 23, 'grade': 99, 'address': 'india', 'name': 'Alice'}\n"
     ]
    }
   ],
   "source": [
    "student['name']='Alice'\n",
    "print(student)"
   ]
  },
  {
   "cell_type": "code",
   "execution_count": 27,
   "metadata": {},
   "outputs": [
    {
     "name": "stdout",
     "output_type": "stream",
     "text": [
      "age\n",
      "grade\n",
      "address\n",
      "name\n"
     ]
    }
   ],
   "source": [
    "#can iterate over keys,values and items\n",
    "for key in student.keys():\n",
    "    print(key)"
   ]
  },
  {
   "cell_type": "code",
   "execution_count": 29,
   "metadata": {},
   "outputs": [
    {
     "name": "stdout",
     "output_type": "stream",
     "text": [
      "23\n",
      "99\n",
      "india\n",
      "Alice\n"
     ]
    }
   ],
   "source": [
    "for value in student.values():\n",
    "    print(value)"
   ]
  },
  {
   "cell_type": "code",
   "execution_count": 34,
   "metadata": {},
   "outputs": [
    {
     "name": "stdout",
     "output_type": "stream",
     "text": [
      "{0: 0, 2: 4, 4: 16}\n"
     ]
    }
   ],
   "source": [
    "squares={x:x**2 for x in range(5) if x%2==0}\n",
    "print(squares)"
   ]
  },
  {
   "cell_type": "code",
   "execution_count": 41,
   "metadata": {},
   "outputs": [
    {
     "name": "stdout",
     "output_type": "stream",
     "text": [
      "{1: 1, 2: 1, 3: 1, 4: 1, 5: 1, 6: 1, 7: 1, 8: 1}\n"
     ]
    }
   ],
   "source": [
    "number=[1,2,2,3,3,4,4,4,5,5,6,7,8,2]\n",
    "frequency={}\n",
    "for num in number:\n",
    "    if num in frequency:\n",
    "        frequency[num]=+1\n",
    "    else:\n",
    "        frequency[num]=1\n",
    "print(frequency)"
   ]
  },
  {
   "cell_type": "code",
   "execution_count": 44,
   "metadata": {},
   "outputs": [
    {
     "name": "stdout",
     "output_type": "stream",
     "text": [
      "{'name': 'gaja', 'age': 23, 'address': 'india'}\n"
     ]
    }
   ],
   "source": [
    "#merge dictionary\n",
    "a={'name':'gaja','age':23}\n",
    "b={'address':'india'}\n",
    "merge_dict={**a,**b}\n",
    "print(merge_dict)"
   ]
  }
 ],
 "metadata": {
  "kernelspec": {
   "display_name": "Python 3",
   "language": "python",
   "name": "python3"
  },
  "language_info": {
   "codemirror_mode": {
    "name": "ipython",
    "version": 3
   },
   "file_extension": ".py",
   "mimetype": "text/x-python",
   "name": "python",
   "nbconvert_exporter": "python",
   "pygments_lexer": "ipython3",
   "version": "3.12.3"
  }
 },
 "nbformat": 4,
 "nbformat_minor": 2
}
