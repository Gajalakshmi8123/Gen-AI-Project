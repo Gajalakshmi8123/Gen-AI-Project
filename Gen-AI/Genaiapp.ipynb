{
 "cells": [
  {
   "cell_type": "markdown",
   "id": "607b93a5",
   "metadata": {},
   "source": [
    "simple gen ai app using langchain"
   ]
  },
  {
   "cell_type": "code",
   "execution_count": 2,
   "id": "8ef725af",
   "metadata": {},
   "outputs": [
    {
     "data": {
      "text/plain": [
       "True"
      ]
     },
     "execution_count": 2,
     "metadata": {},
     "output_type": "execute_result"
    }
   ],
   "source": [
    "import os\n",
    "from dotenv import load_dotenv\n",
    "load_dotenv()"
   ]
  },
  {
   "cell_type": "code",
   "execution_count": null,
   "id": "371ea624",
   "metadata": {},
   "outputs": [],
   "source": [
    "#langsmith trackking\n",
    "os.environ['LANGCHAIN_API_KEY']=os.environ(\"LANGCHAIN_API_KEY\")\n",
    "os.environ['LANGCHAIN_TRACING_V2']=True\n",
    "os.environ[\"LANGCHAIN_PROJECT\"]=os.getenv(\"LANGCHAIN_PROJECT\")"
   ]
  },
  {
   "cell_type": "markdown",
   "id": "e8d25029",
   "metadata": {},
   "source": [
    "From the website we need to scrape the data"
   ]
  },
  {
   "cell_type": "code",
   "execution_count": 4,
   "id": "030707c5",
   "metadata": {},
   "outputs": [
    {
     "name": "stderr",
     "output_type": "stream",
     "text": [
      "USER_AGENT environment variable not set, consider setting it to identify your requests.\n"
     ]
    },
    {
     "data": {
      "text/plain": [
       "<langchain_community.document_loaders.web_base.WebBaseLoader at 0x24e8fb11be0>"
      ]
     },
     "execution_count": 4,
     "metadata": {},
     "output_type": "execute_result"
    }
   ],
   "source": [
    "from langchain_community.document_loaders import WebBaseLoader\n",
    "#scrape the entire content fron the website\n",
    "loader=WebBaseLoader(\"https://medium.com/around-the-prompt/what-is-langsmith-and-why-should-i-care-as-a-developer-e5921deb54b5\")\n",
    "loader"
   ]
  },
  {
   "cell_type": "code",
   "execution_count": 5,
   "id": "9cd34ac3",
   "metadata": {},
   "outputs": [
    {
     "data": {
      "text/plain": [
       "[Document(metadata={'source': 'https://medium.com/around-the-prompt/what-is-langsmith-and-why-should-i-care-as-a-developer-e5921deb54b5', 'title': 'What is LangSmith and why should I care as a developer? | by Logan Kilpatrick | Around the Prompt | Medium', 'description': 'I have said it before and I will say it again, the tooling around large language models (LLM’s) is still in its infancy. Due to the nature of LLM’s and their inherent dynamism, traditional software…', 'language': 'en'}, page_content='What is LangSmith and why should I care as a developer? | by Logan Kilpatrick | Around the Prompt | MediumSitemapOpen in appSign upSign inMedium LogoWriteSign upSign inAround the Prompt·‘Around the Prompt’ goes deep, peeling back the layers of AI innovation to reveal the hidden gems, the untapped potential, based on conversations with leading experts.What is LangSmith and why should I care as a developer?A deep dive into the latest product from the creators of LangChain 🦜Logan KilpatrickFollow5 min read·Jul 24, 2023--3ListenShareImage by AuthorI have said it before and I will say it again, the tooling around large language models (LLM’s) is still in its infancy. Due to the nature of LLM’s and their inherent dynamism, traditional software tooling is often ill-equipped to handle these models out of the box.Enter LangChain and LangSmith.In this post, we will explore the latest product by the team that created Langchain (the most popular LLM software tool) and see what new parts of the LLM stack LangSmith hopes to tackle.If you are new to LLM development, the first place to start is with Langchain itself. I wrote up a comprehensive intro with details on what problems it can solve:What is Langchain and why should I care as a developer?The worlds fastest growing language model application framework, packed with LLM tools and agent supportlogankilpatrick.medium.com[Quick note: I am writing this article to reflect my personal views as I explore the LLM ecosystem and this is not intended to represent the views of my employer, hence being on my personal blog]What is LangSmith? 🤔When Langchain was originally created, the goal was to reduce the barrier to entry with respect to building prototypes. Despite some pushback on the viability of Langchain as a tool, I think it has largely delivered on this goal. The next problem space to tackle after prototypes is helping get these applications into production and ensuring this happens in a reliable and maintainable way. The simple mental model is:Langchain = prototypingLangSmith = productionBut what are the production challenges that need to be solved which were not as relevant in prototyping?Reliability — it is deceptively easy to build something that works well for a simple constrained example but actually still quite hard today to build LLM applications with the consistency that most companies would want.To tackle this, LangSmith provides new features around 5 core pillars:DebuggingTestingEvaluatingMonitoringUsage metricsA huge part of the value add for LangSmith is being able to do all of these things from a simple and intuitive UI which significantly reduces the barrier to entry for those without a software background.Quick interruption: my brother Chandler is working on a project where he creates custom hard cover AI art coffee table books for people based on the theme they want, it is so fricken cool! Check it out to support him:Custom (You Choose the Theme) AI Art Coffee Table BookInterested in AI? Want to explore what is possible and be inspired by AI art generated by DALL·E 3 from OpenAI?Let’s…aiartbooks.gumroad.comThere are also a lot of things about LLM’s that are not intuitive when you look at them from a numbers perspective so being able to see visualizations through a UI will be useful (e.g. how temperature effects model output distribution). I personally find that having a polished UI can actually be the accelerant to my prototyping and work since doing everything with code can often times be cumbersome.Further, being able to visualize the process the LLM system is going through and a complex chain of commands can be super useful in understanding why you are getting the output that you are. As you build more complex workflows, it can be hard to understand exactly what queries are moving through different flows so a simple UI to see this and log the historical data is going to be a value add from day one.Who is competing with LangSmith?While not direct competitors thus far, it does make a lot of sense for organizations like Vercel (who have the AI SDK) to build similar features into their platform given the desire to be the place for AI builders. I would imagine that other platforms build similar tooling over the next 3–6 months given the market for these tools has so much potential.Vercel is still more focused on the deployment and serving aspect of LLM’s today since that is more aligned historically with their core product but it would make sense to extend the AI SDK to do more over time.While LangSmith does not appear to go deep on Embeddings yet, there does seem to be a ton of natural crossover between this and many of the Embeddings providers who are differentiating with the batteries included UI. Ecosystems like LlamaIndex would benefit from this type of product development but it is unclear they can stay differentiated overtime as the problem space seems to be very similar.Despite this, it is nice to see LangSmith still wanting to connect with as many tools as possible. In the launch blog post, they mentioned integrations with OpenAI evals as well as multiple fine-tuning providers that will enable developers to export data and directly train on it. These types of integrations seem like they will not only enable a ton of developer goodwill but actually serve as a lightweight moat over time (connecting things is not always easy).What I want from LangSmith 👀The main ask I have is extensibility. I really do think there could be orders of magnitude more impact if the core of LangSmith could be built into other applications and services. Allowing developers to sign in with their LangChain account and monitor their LLM’s on Vercel for example with the AI SDK and deployment information all in one place would be extremely valuable.What it takes to be differentiated over a long period of timeI am very excited about LangSmith, hence spending the time to write this up. I think it solves a bunch of actual problems that developers and builders have when trying to go into production. The real long term question still remains: “is there enough here to build a long term defensible bussiness”.I do not have a crystal ball (shockingly) but my general mindset today is that many of the current features of LangSmith are table stakes for developers. Most LLM providers will want to build similar features into their platforms over time. That doesn’t mean that LangSmith cannot succeed though. Just look at Terraform by HashiCorp for example, it is the glue that sits in between all the cloud providers and solves a large enough problem to be a publicly traded company. But LangSmith will need to continue to expand in scope in order to be competitive with multiple providers and other tooling ecosystems.You got this Harrison!Machine LearningOpenAICodingProgrammingLanguage Model----3FollowPublished in Around the Prompt61 followers·Last published\\xa0Apr 21, 2025‘Around the Prompt’ goes deep, peeling back the layers of AI innovation to reveal the hidden gems, the untapped potential, based on conversations with leading experts.FollowFollowWritten by Logan Kilpatrick2.8K followers·5 followingLead product for Google AI Studio, working on the Gemini API, and AGI. Ex-OpenAI.FollowResponses (3)See all responsesHelpStatusAboutCareersPressBlogPrivacyRulesTermsText to speech\\n\\n\\n\\n\\n\\n\\n\\n\\n\\n\\n\\n\\n\\n\\n\\n\\n\\n\\n\\n\\n\\n\\n\\n\\n\\n\\n\\n\\n\\n\\n\\n\\n\\n\\n\\n\\n\\n')]"
      ]
     },
     "execution_count": 5,
     "metadata": {},
     "output_type": "execute_result"
    }
   ],
   "source": [
    "docs=loader.load()\n",
    "docs"
   ]
  },
  {
   "cell_type": "code",
   "execution_count": 8,
   "id": "e57c3eee",
   "metadata": {},
   "outputs": [],
   "source": [
    "#in llm model there is contect size so we need to split into chnks\n",
    "from langchain_text_splitters import RecursiveCharacterTextSplitter\n",
    "text_splitter=RecursiveCharacterTextSplitter(chunk_size=1000,chunk_overlap=20)\n",
    "documents=text_splitter.split_documents(docs)"
   ]
  },
  {
   "cell_type": "code",
   "execution_count": 9,
   "id": "33601866",
   "metadata": {},
   "outputs": [
    {
     "data": {
      "text/plain": [
       "[Document(metadata={'source': 'https://medium.com/around-the-prompt/what-is-langsmith-and-why-should-i-care-as-a-developer-e5921deb54b5', 'title': 'What is LangSmith and why should I care as a developer? | by Logan Kilpatrick | Around the Prompt | Medium', 'description': 'I have said it before and I will say it again, the tooling around large language models (LLM’s) is still in its infancy. Due to the nature of LLM’s and their inherent dynamism, traditional software…', 'language': 'en'}, page_content='What is LangSmith and why should I care as a developer? | by Logan Kilpatrick | Around the Prompt | MediumSitemapOpen in appSign upSign inMedium LogoWriteSign upSign inAround the Prompt·‘Around the Prompt’ goes deep, peeling back the layers of AI innovation to reveal the hidden gems, the untapped potential, based on conversations with leading experts.What is LangSmith and why should I care as a developer?A deep dive into the latest product from the creators of LangChain 🦜Logan KilpatrickFollow5 min read·Jul 24, 2023--3ListenShareImage by AuthorI have said it before and I will say it again, the tooling around large language models (LLM’s) is still in its infancy. Due to the nature of LLM’s and their inherent dynamism, traditional software tooling is often ill-equipped to handle these models out of the box.Enter LangChain and LangSmith.In this post, we will explore the latest product by the team that created Langchain (the most popular LLM software tool) and see what new parts of the LLM'),\n",
       " Document(metadata={'source': 'https://medium.com/around-the-prompt/what-is-langsmith-and-why-should-i-care-as-a-developer-e5921deb54b5', 'title': 'What is LangSmith and why should I care as a developer? | by Logan Kilpatrick | Around the Prompt | Medium', 'description': 'I have said it before and I will say it again, the tooling around large language models (LLM’s) is still in its infancy. Due to the nature of LLM’s and their inherent dynamism, traditional software…', 'language': 'en'}, page_content='parts of the LLM stack LangSmith hopes to tackle.If you are new to LLM development, the first place to start is with Langchain itself. I wrote up a comprehensive intro with details on what problems it can solve:What is Langchain and why should I care as a developer?The worlds fastest growing language model application framework, packed with LLM tools and agent supportlogankilpatrick.medium.com[Quick note: I am writing this article to reflect my personal views as I explore the LLM ecosystem and this is not intended to represent the views of my employer, hence being on my personal blog]What is LangSmith? 🤔When Langchain was originally created, the goal was to reduce the barrier to entry with respect to building prototypes. Despite some pushback on the viability of Langchain as a tool, I think it has largely delivered on this goal. The next problem space to tackle after prototypes is helping get these applications into production and ensuring this happens in a reliable and maintainable'),\n",
       " Document(metadata={'source': 'https://medium.com/around-the-prompt/what-is-langsmith-and-why-should-i-care-as-a-developer-e5921deb54b5', 'title': 'What is LangSmith and why should I care as a developer? | by Logan Kilpatrick | Around the Prompt | Medium', 'description': 'I have said it before and I will say it again, the tooling around large language models (LLM’s) is still in its infancy. Due to the nature of LLM’s and their inherent dynamism, traditional software…', 'language': 'en'}, page_content='and maintainable way. The simple mental model is:Langchain = prototypingLangSmith = productionBut what are the production challenges that need to be solved which were not as relevant in prototyping?Reliability — it is deceptively easy to build something that works well for a simple constrained example but actually still quite hard today to build LLM applications with the consistency that most companies would want.To tackle this, LangSmith provides new features around 5 core pillars:DebuggingTestingEvaluatingMonitoringUsage metricsA huge part of the value add for LangSmith is being able to do all of these things from a simple and intuitive UI which significantly reduces the barrier to entry for those without a software background.Quick interruption: my brother Chandler is working on a project where he creates custom hard cover AI art coffee table books for people based on the theme they want, it is so fricken cool! Check it out to support him:Custom (You Choose the Theme) AI Art Coffee'),\n",
       " Document(metadata={'source': 'https://medium.com/around-the-prompt/what-is-langsmith-and-why-should-i-care-as-a-developer-e5921deb54b5', 'title': 'What is LangSmith and why should I care as a developer? | by Logan Kilpatrick | Around the Prompt | Medium', 'description': 'I have said it before and I will say it again, the tooling around large language models (LLM’s) is still in its infancy. Due to the nature of LLM’s and their inherent dynamism, traditional software…', 'language': 'en'}, page_content='AI Art Coffee Table BookInterested in AI? Want to explore what is possible and be inspired by AI art generated by DALL·E 3 from OpenAI?Let’s…aiartbooks.gumroad.comThere are also a lot of things about LLM’s that are not intuitive when you look at them from a numbers perspective so being able to see visualizations through a UI will be useful (e.g. how temperature effects model output distribution). I personally find that having a polished UI can actually be the accelerant to my prototyping and work since doing everything with code can often times be cumbersome.Further, being able to visualize the process the LLM system is going through and a complex chain of commands can be super useful in understanding why you are getting the output that you are. As you build more complex workflows, it can be hard to understand exactly what queries are moving through different flows so a simple UI to see this and log the historical data is going to be a value add from day one.Who is competing with'),\n",
       " Document(metadata={'source': 'https://medium.com/around-the-prompt/what-is-langsmith-and-why-should-i-care-as-a-developer-e5921deb54b5', 'title': 'What is LangSmith and why should I care as a developer? | by Logan Kilpatrick | Around the Prompt | Medium', 'description': 'I have said it before and I will say it again, the tooling around large language models (LLM’s) is still in its infancy. Due to the nature of LLM’s and their inherent dynamism, traditional software…', 'language': 'en'}, page_content='is competing with LangSmith?While not direct competitors thus far, it does make a lot of sense for organizations like Vercel (who have the AI SDK) to build similar features into their platform given the desire to be the place for AI builders. I would imagine that other platforms build similar tooling over the next 3–6 months given the market for these tools has so much potential.Vercel is still more focused on the deployment and serving aspect of LLM’s today since that is more aligned historically with their core product but it would make sense to extend the AI SDK to do more over time.While LangSmith does not appear to go deep on Embeddings yet, there does seem to be a ton of natural crossover between this and many of the Embeddings providers who are differentiating with the batteries included UI. Ecosystems like LlamaIndex would benefit from this type of product development but it is unclear they can stay differentiated overtime as the problem space seems to be very similar.Despite'),\n",
       " Document(metadata={'source': 'https://medium.com/around-the-prompt/what-is-langsmith-and-why-should-i-care-as-a-developer-e5921deb54b5', 'title': 'What is LangSmith and why should I care as a developer? | by Logan Kilpatrick | Around the Prompt | Medium', 'description': 'I have said it before and I will say it again, the tooling around large language models (LLM’s) is still in its infancy. Due to the nature of LLM’s and their inherent dynamism, traditional software…', 'language': 'en'}, page_content='similar.Despite this, it is nice to see LangSmith still wanting to connect with as many tools as possible. In the launch blog post, they mentioned integrations with OpenAI evals as well as multiple fine-tuning providers that will enable developers to export data and directly train on it. These types of integrations seem like they will not only enable a ton of developer goodwill but actually serve as a lightweight moat over time (connecting things is not always easy).What I want from LangSmith 👀The main ask I have is extensibility. I really do think there could be orders of magnitude more impact if the core of LangSmith could be built into other applications and services. Allowing developers to sign in with their LangChain account and monitor their LLM’s on Vercel for example with the AI SDK and deployment information all in one place would be extremely valuable.What it takes to be differentiated over a long period of timeI am very excited about LangSmith, hence spending the time to'),\n",
       " Document(metadata={'source': 'https://medium.com/around-the-prompt/what-is-langsmith-and-why-should-i-care-as-a-developer-e5921deb54b5', 'title': 'What is LangSmith and why should I care as a developer? | by Logan Kilpatrick | Around the Prompt | Medium', 'description': 'I have said it before and I will say it again, the tooling around large language models (LLM’s) is still in its infancy. Due to the nature of LLM’s and their inherent dynamism, traditional software…', 'language': 'en'}, page_content='the time to write this up. I think it solves a bunch of actual problems that developers and builders have when trying to go into production. The real long term question still remains: “is there enough here to build a long term defensible bussiness”.I do not have a crystal ball (shockingly) but my general mindset today is that many of the current features of LangSmith are table stakes for developers. Most LLM providers will want to build similar features into their platforms over time. That doesn’t mean that LangSmith cannot succeed though. Just look at Terraform by HashiCorp for example, it is the glue that sits in between all the cloud providers and solves a large enough problem to be a publicly traded company. But LangSmith will need to continue to expand in scope in order to be competitive with multiple providers and other tooling ecosystems.You got this Harrison!Machine LearningOpenAICodingProgrammingLanguage Model----3FollowPublished in Around the Prompt61 followers·Last'),\n",
       " Document(metadata={'source': 'https://medium.com/around-the-prompt/what-is-langsmith-and-why-should-i-care-as-a-developer-e5921deb54b5', 'title': 'What is LangSmith and why should I care as a developer? | by Logan Kilpatrick | Around the Prompt | Medium', 'description': 'I have said it before and I will say it again, the tooling around large language models (LLM’s) is still in its infancy. Due to the nature of LLM’s and their inherent dynamism, traditional software…', 'language': 'en'}, page_content='followers·Last published\\xa0Apr 21, 2025‘Around the Prompt’ goes deep, peeling back the layers of AI innovation to reveal the hidden gems, the untapped potential, based on conversations with leading experts.FollowFollowWritten by Logan Kilpatrick2.8K followers·5 followingLead product for Google AI Studio, working on the Gemini API, and AGI. Ex-OpenAI.FollowResponses (3)See all responsesHelpStatusAboutCareersPressBlogPrivacyRulesTermsText to speech')]"
      ]
     },
     "execution_count": 9,
     "metadata": {},
     "output_type": "execute_result"
    }
   ],
   "source": [
    "documents"
   ]
  },
  {
   "cell_type": "code",
   "execution_count": null,
   "id": "2ed9c967",
   "metadata": {},
   "outputs": [],
   "source": [
    "from langchain_openai import OpenAIEmbeddings\n",
    "embeddings=OpenAIEmbeddings()\n"
   ]
  },
  {
   "cell_type": "code",
   "execution_count": null,
   "id": "4ef6ea68",
   "metadata": {},
   "outputs": [],
   "source": [
    "from langchain_community.vectorstores import FAISS\n",
    "vectorstoredb=FAISS.from_documents(documents,embeddings)"
   ]
  },
  {
   "cell_type": "code",
   "execution_count": null,
   "id": "7983d7f0",
   "metadata": {},
   "outputs": [],
   "source": [
    "vectorstoredb"
   ]
  },
  {
   "cell_type": "code",
   "execution_count": null,
   "id": "2affb0b1",
   "metadata": {},
   "outputs": [],
   "source": [
    "query=\" first place to start is with Langchain\"\n",
    "result=vectorstoredb.similarity_search(query)\n",
    "result[0].page_content"
   ]
  },
  {
   "cell_type": "code",
   "execution_count": null,
   "id": "f7b88bfe",
   "metadata": {},
   "outputs": [],
   "source": [
    "#i wnat to give context related to the query using retrievel chains\n",
    "#document chain, \n",
    "from langchain.chains.combine_documents import create_stuff_documents_chain\n",
    "from langchain_core.prompts import ChatPromptTemplate\n",
    "prompt=ChatPromptTemplate(\n",
    "    \"\"\" answer the following question based on only provided context:\n",
    "    <context>\n",
    "    {context}\n",
    "    <context>\"\"\"\n",
    ")"
   ]
  },
  {
   "cell_type": "code",
   "execution_count": null,
   "id": "1fb9f796",
   "metadata": {},
   "outputs": [],
   "source": [
    "from langchain_openai import ChatOpenAI\n",
    "llm=ChatOpenAI(model=\"gpt-4o\")"
   ]
  },
  {
   "cell_type": "code",
   "execution_count": null,
   "id": "216e24a5",
   "metadata": {},
   "outputs": [],
   "source": [
    "Document_chain=create_stuff_documents_chain(llm,prompt)\n",
    "Document_chain"
   ]
  },
  {
   "cell_type": "code",
   "execution_count": null,
   "id": "d24fbc6d",
   "metadata": {},
   "outputs": [],
   "source": [
    "from langchain_core.documents import Document\n",
    "Document_chain.invoke({\n",
    "    \"input\":\"what is langsmith\"\n",
    "    \"context\":[Document(page_content=\"what is langsmith\")]})"
   ]
  },
  {
   "cell_type": "code",
   "execution_count": null,
   "id": "0602ae22",
   "metadata": {},
   "outputs": [],
   "source": [
    "#if i passing any input using retriever it will take relevent information from vector db\n"
   ]
  },
  {
   "cell_type": "code",
   "execution_count": null,
   "id": "951c5fe7",
   "metadata": {},
   "outputs": [],
   "source": [
    "#create retriever\n",
    "retriever=vectorstoredb.as_retriever()\n",
    "from langchain.chains import create_retrieval_chain\n",
    "retriever_chain=create_retrieval_chain(retriever,Document_chain)"
   ]
  },
  {
   "cell_type": "code",
   "execution_count": null,
   "id": "325351d0",
   "metadata": {},
   "outputs": [],
   "source": [
    "retriever_chain"
   ]
  },
  {
   "cell_type": "code",
   "execution_count": null,
   "id": "5d883982",
   "metadata": {},
   "outputs": [],
   "source": [
    "response=retriever_chain.invoke({\"input:what is lang smith\"})\n",
    "response['answer']"
   ]
  },
  {
   "cell_type": "code",
   "execution_count": null,
   "id": "67a3530b",
   "metadata": {},
   "outputs": [],
   "source": [
    "response"
   ]
  },
  {
   "cell_type": "code",
   "execution_count": null,
   "id": "ce24597f",
   "metadata": {},
   "outputs": [],
   "source": [
    "response['context']"
   ]
  }
 ],
 "metadata": {
  "kernelspec": {
   "display_name": "venv",
   "language": "python",
   "name": "python3"
  },
  "language_info": {
   "codemirror_mode": {
    "name": "ipython",
    "version": 3
   },
   "file_extension": ".py",
   "mimetype": "text/x-python",
   "name": "python",
   "nbconvert_exporter": "python",
   "pygments_lexer": "ipython3",
   "version": "3.12.3"
  }
 },
 "nbformat": 4,
 "nbformat_minor": 5
}
