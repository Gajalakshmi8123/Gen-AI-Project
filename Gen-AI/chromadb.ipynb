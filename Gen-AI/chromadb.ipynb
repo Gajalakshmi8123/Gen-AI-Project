{
 "cells": [
  {
   "cell_type": "markdown",
   "id": "1ec98292",
   "metadata": {},
   "source": [
    "Chromadb is an open-source embedding database designed specifically for AI and LLM applications. "
   ]
  },
  {
   "cell_type": "code",
   "execution_count": 2,
   "id": "b2bccc6b",
   "metadata": {},
   "outputs": [],
   "source": [
    "from langchain_chroma import Chroma\n",
    "from langchain_community.document_loaders import TextLoader\n",
    "from langchain_community.embeddings import OllamaEmbeddings\n",
    "from langchain_text_splitters import RecursiveCharacterTextSplitter"
   ]
  },
  {
   "cell_type": "code",
   "execution_count": 3,
   "id": "2891c5b0",
   "metadata": {},
   "outputs": [],
   "source": [
    "loader= TextLoader(\"speech.txt\")\n",
    "data= loader.load()"
   ]
  },
  {
   "cell_type": "code",
   "execution_count": 4,
   "id": "d9c7f078",
   "metadata": {},
   "outputs": [
    {
     "data": {
      "text/plain": [
       "[Document(metadata={'source': 'speech.txt'}, page_content=\"Generative AI (Gen AI) is a subset of artificial intelligence focused on creating new contentâ€”such as text, images, music, videos, and codeâ€”based on patterns learned from large datasets. Unlike traditional AI, which typically analyzes and interprets existing data to make predictions or decisions, generative AI models are trained to generate novel outputs that resemble the data they were trained on .\\nThe Verge\\n+2\\nMcKinsey & Company\\n+2\\nExamples.com\\n+2\\nMIT News\\n How Generative AI Works\\nGenerative AI models utilize advanced machine learning techniques, particularly deep learning, to understand and replicate the underlying structures of their training data. These models learn to generate new content by identifying patterns and relationships within the data. Common architectures include:\\nTechRadar\\n\\nGenerative Adversarial Networks (GANs): Consist of two neural networksâ€”a generator and a discriminatorâ€”that work in opposition to create realistic outputs .\\nMIT News\\n+2\\nWikipedia\\n+2\\nFusemachines\\n+2\\n\\nTransformer Models: Utilize attention mechanisms to process and generate sequences of data, excelling in tasks like natural language processing .\\nTechRadar\\n\\nVariational Autoencoders (VAEs): Learn to encode data into a compressed representation and then decode it back into a new, similar instance .\\nIBM Research\\n\\nðŸ”§ Popular Generative AI Tools\\nSome widely recognized generative AI tools include:\\n\\nChatGPT: A conversational AI developed by OpenAI, capable of generating human-like text based on prompts.\\n\\nDALLÂ·E: An image generation model by OpenAI that creates images from textual descriptions.\\n\\nMidjourney: An independent research lab's AI that generates images from natural language prompts.\\nWikipedia\\n\\nStable Diffusion: A model that generates detailed images from text inputs, known for its open-source nature.\\n\\nAdobe Firefly: Adobe's suite of generative AI tools for creative professionals, including text-to-image and text-to-video capabilities .\\n Applications of Generative AI\\nGenerative AI has diverse applications across various fields:\\n\\nContent Creation: Automates the generation of articles, blogs, and social media posts.\\n\\nDesign and Art: Assists in creating digital art, graphics, and even fashion designs.\\n\\nHealthcare: Generates synthetic medical data for research and assists in drug discovery.\\nCollege of Education\\n+1\\nFinancial Times\\n+1\\n\\nEntertainment: Produces music, scripts, and video content.\\nCollege of Education\\n+1\\narXiv\\n+1\\n\\nEducation: Creates personalized learning materials and simulations.\\nExamples.com\\n\\nChallenges and Considerations\\nWhile generative AI offers numerous benefits, it also presents challenges:\\n\\nData Privacy: The use of large datasets may raise concerns about data privacy and consent.\\n\\nBias and Fairness: Models may inherit biases present in their training data, leading to biased outputs.\\n\\nIntellectual Property: Determining ownership of AI-generated content can be complex.\\n\\nQuality Control: Ensuring the accuracy and reliability of generated content is crucial, especially in critical fields like healthcare.\\n\\n\")]"
      ]
     },
     "execution_count": 4,
     "metadata": {},
     "output_type": "execute_result"
    }
   ],
   "source": [
    "data"
   ]
  },
  {
   "cell_type": "code",
   "execution_count": 5,
   "id": "7052c62f",
   "metadata": {},
   "outputs": [],
   "source": [
    "#split\n",
    "text_splitter=RecursiveCharacterTextSplitter(chunk_size=500,chunk_overlap=0)\n",
    "splits= text_splitter.split_documents(data)"
   ]
  },
  {
   "cell_type": "code",
   "execution_count": 6,
   "id": "e4ecec9a",
   "metadata": {},
   "outputs": [
    {
     "name": "stderr",
     "output_type": "stream",
     "text": [
      "C:\\Users\\Gajalakshmi G\\AppData\\Local\\Temp\\ipykernel_28052\\3457754910.py:1: LangChainDeprecationWarning: The class `OllamaEmbeddings` was deprecated in LangChain 0.3.1 and will be removed in 1.0.0. An updated version of the class exists in the :class:`~langchain-ollama package and should be used instead. To use it run `pip install -U :class:`~langchain-ollama` and import as `from :class:`~langchain_ollama import OllamaEmbeddings``.\n",
      "  embedding=OllamaEmbeddings()\n"
     ]
    },
    {
     "data": {
      "text/plain": [
       "<langchain_chroma.vectorstores.Chroma at 0x22c3b3b1520>"
      ]
     },
     "execution_count": 6,
     "metadata": {},
     "output_type": "execute_result"
    }
   ],
   "source": [
    "embedding=OllamaEmbeddings()\n",
    "vectordb=Chroma.from_documents(documents=splits,embedding=embedding)\n",
    "vectordb"
   ]
  },
  {
   "cell_type": "code",
   "execution_count": 7,
   "id": "e27487dc",
   "metadata": {},
   "outputs": [
    {
     "data": {
      "text/plain": [
       "'Generative AI models utilize advanced machine learning techniques, particularly deep learning, to understand and replicate the underlying structures of their training data. These models learn to generate new content by identifying patterns and relationships within the data. Common architectures include:\\nTechRadar'"
      ]
     },
     "execution_count": 7,
     "metadata": {},
     "output_type": "execute_result"
    }
   ],
   "source": [
    "#query it\n",
    "query=\"what is Gen aI\"\n",
    "docs= vectordb.similarity_search(query)\n",
    "docs[0].page_content"
   ]
  },
  {
   "cell_type": "code",
   "execution_count": 8,
   "id": "b8fbefd9",
   "metadata": {},
   "outputs": [],
   "source": [
    "#saving to the disk\n",
    "vectordb=Chroma.from_documents(documents=splits,embedding=embedding,persist_directory=\"./chroma_db\")"
   ]
  },
  {
   "cell_type": "code",
   "execution_count": 9,
   "id": "17af780a",
   "metadata": {},
   "outputs": [
    {
     "name": "stdout",
     "output_type": "stream",
     "text": [
      "Generative AI models utilize advanced machine learning techniques, particularly deep learning, to understand and replicate the underlying structures of their training data. These models learn to generate new content by identifying patterns and relationships within the data. Common architectures include:\n",
      "TechRadar\n"
     ]
    }
   ],
   "source": [
    "#load the disk\n",
    "db2=Chroma(persist_directory=\"./chroma_db\",embedding_function=embedding)\n",
    "docs=db2.similarity_search(query)\n",
    "print(docs[0].page_content)"
   ]
  },
  {
   "cell_type": "code",
   "execution_count": 11,
   "id": "09890328",
   "metadata": {},
   "outputs": [
    {
     "data": {
      "text/plain": [
       "[(Document(id='ba39615a-2a25-45f9-9dac-4c78af6267b1', metadata={'source': 'speech.txt'}, page_content='Generative AI models utilize advanced machine learning techniques, particularly deep learning, to understand and replicate the underlying structures of their training data. These models learn to generate new content by identifying patterns and relationships within the data. Common architectures include:\\nTechRadar'),\n",
       "  20159.91796875),\n",
       " (Document(id='bd869a39-815f-42d1-9132-723911f2ea6d', metadata={'source': 'speech.txt'}, page_content='Quality Control: Ensuring the accuracy and reliability of generated content is crucial, especially in critical fields like healthcare.'),\n",
       "  24083.6484375),\n",
       " (Document(id='5aab0695-8146-411d-89db-3d35dfa7deec', metadata={'source': 'speech.txt'}, page_content='Generative AI (Gen AI) is a subset of artificial intelligence focused on creating new contentâ€”such as text, images, music, videos, and codeâ€”based on patterns learned from large datasets. Unlike traditional AI, which typically analyzes and interprets existing data to make predictions or decisions, generative AI models are trained to generate novel outputs that resemble the data they were trained on .\\nThe Verge\\n+2\\nMcKinsey & Company\\n+2\\nExamples.com\\n+2\\nMIT News\\n How Generative AI Works'),\n",
       "  30626.78515625),\n",
       " (Document(id='1f83cd65-05a5-44cd-9439-9d44bc076a01', metadata={'source': 'speech.txt'}, page_content='Generative Adversarial Networks (GANs): Consist of two neural networksâ€”a generator and a discriminatorâ€”that work in opposition to create realistic outputs .\\nMIT News\\n+2\\nWikipedia\\n+2\\nFusemachines\\n+2\\n\\nTransformer Models: Utilize attention mechanisms to process and generate sequences of data, excelling in tasks like natural language processing .\\nTechRadar'),\n",
       "  32044.94140625)]"
      ]
     },
     "execution_count": 11,
     "metadata": {},
     "output_type": "execute_result"
    }
   ],
   "source": [
    "#to get similarity score using of manhatten distance simlarity score will provided\n",
    "docs=vectordb.similarity_search_with_score(query)\n",
    "docs"
   ]
  },
  {
   "cell_type": "code",
   "execution_count": 12,
   "id": "08971cd6",
   "metadata": {},
   "outputs": [
    {
     "data": {
      "text/plain": [
       "'Generative AI models utilize advanced machine learning techniques, particularly deep learning, to understand and replicate the underlying structures of their training data. These models learn to generate new content by identifying patterns and relationships within the data. Common architectures include:\\nTechRadar'"
      ]
     },
     "execution_count": 12,
     "metadata": {},
     "output_type": "execute_result"
    }
   ],
   "source": [
    "#retrievel option\n",
    "retriever=vectordb.as_retriever()\n",
    "retriever.invoke(query)[0].page_content"
   ]
  },
  {
   "cell_type": "code",
   "execution_count": null,
   "id": "9467bbd4",
   "metadata": {},
   "outputs": [],
   "source": []
  }
 ],
 "metadata": {
  "kernelspec": {
   "display_name": "venv",
   "language": "python",
   "name": "python3"
  },
  "language_info": {
   "codemirror_mode": {
    "name": "ipython",
    "version": 3
   },
   "file_extension": ".py",
   "mimetype": "text/x-python",
   "name": "python",
   "nbconvert_exporter": "python",
   "pygments_lexer": "ipython3",
   "version": "3.12.3"
  }
 },
 "nbformat": 4,
 "nbformat_minor": 5
}
